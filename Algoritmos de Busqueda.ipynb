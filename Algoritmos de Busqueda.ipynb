{
 "cells": [
  {
   "cell_type": "markdown",
   "metadata": {},
   "source": [
    "### **Algoritmos de Busqueda**"
   ]
  },
  {
   "cell_type": "markdown",
   "metadata": {},
   "source": [
    "Un algoritmo de búsqueda es un conjunto de pasos o reglas que se utilizan para encontrar un elemento específico dentro de un conjunto de datos o estructura. <br>\n",
    "Los algoritmos de búsqueda son ampliamente utilizados en informática y programación para buscar información en una variedad de contextos, como listas, arreglos, bases de datos, árboles, grafos y más."
   ]
  },
  {
   "cell_type": "code",
   "execution_count": 1,
   "metadata": {},
   "outputs": [
    {
     "name": "stdout",
     "output_type": "stream",
     "text": [
      "[14, 45, 46, 34, 8, 23, 54, 31, 47, 1, 47, 5, 21, 43, 14, 49, 69, 53, 49, 45, 37, 46, 48, 23, 64, 65, 60, 26, 21, 59]\n"
     ]
    }
   ],
   "source": [
    "import random\n",
    "nums = [x for x in range(1,71)]\n",
    "dataset = random.choices(nums, k=30)\n",
    "print(dataset)"
   ]
  },
  {
   "cell_type": "markdown",
   "metadata": {},
   "source": [
    "#### **Busqueda Linear**\n",
    "---"
   ]
  },
  {
   "cell_type": "markdown",
   "metadata": {},
   "source": [
    "El algoritmo de búsqueda lineal, a veces llamado búsqueda secuencial, es uno de los métodos de búsqueda más simples y directos. El objetivo de este algoritmo es encontrar un elemento específico en una colección de datos, como una lista o un arreglo, recorriendo la colección elemento por elemento hasta que se encuentre el elemento buscado o se confirme que no existe en la colección."
   ]
  },
  {
   "cell_type": "markdown",
   "metadata": {},
   "source": [
    "Procedimento:\n",
    "\n",
    "1. Comenzar desde el primer elemento de la colección.\n",
    "2. Comparar el elemento actual con el elemento objetivo que se busca.\n",
    "3. Si el elemento actual es igual al elemento objetivo, se ha encontrado una coincidencia y el algoritmo termina.\n",
    "4. Si el elemento actual no coincide con el elemento objetivo, se pasa al siguiente elemento en la colección.\n",
    "5. Este proceso se repite hasta que se encuentre una coincidencia o se recorran todos los elementos de la colección sin éxito."
   ]
  },
  {
   "cell_type": "markdown",
   "metadata": {},
   "source": [
    "Complejidad\n",
    "\n",
    "- En el mejor de los casos 0(1).\n",
    "- En el peor de los casos 0(n)."
   ]
  },
  {
   "cell_type": "code",
   "execution_count": 2,
   "metadata": {},
   "outputs": [],
   "source": [
    "num2find = 27\n",
    "for i in range(0,len(dataset)):\n",
    "    if (dataset[i]==num2find):\n",
    "        print(\"Numer Found!\")\n",
    "        print(f\"Position: {i} | Number Found: {dataset[i]}\")\n",
    "        break"
   ]
  },
  {
   "cell_type": "markdown",
   "metadata": {},
   "source": [
    "#### **Búsqueda Binaria**\n",
    "----"
   ]
  },
  {
   "cell_type": "markdown",
   "metadata": {},
   "source": [
    "\n",
    "La búsqueda binaria, también conocida como búsqueda dicotómica, es un algoritmo de búsqueda eficiente utilizado para encontrar un elemento específico en una colección de datos ordenada, como un arreglo o una lista. El algoritmo aprovecha la propiedad de ordenamiento de los datos para realizar búsquedas de manera más rápida que la búsqueda lineal en el peor de los casos."
   ]
  },
  {
   "cell_type": "markdown",
   "metadata": {},
   "source": [
    "Procedimiento:\n",
    "\n",
    "1. **Ordena los datos:** El primer paso crítico es asegurarse de que la colección de datos esté ordenada en orden ascendente (de menor a mayor) o descendente (de mayor a menor). La búsqueda binaria solo funciona en datos ordenados.\n",
    "2. **Inicialización:** Establece dos índices, uno que representa el inicio del rango de búsqueda (llamado \"inicio\") y otro que representa el final del rango de búsqueda (llamado \"fin\").Inicialmente, el \"inicio\" se establece en 0 y el \"fin\" en el último índice de la colección.\n",
    "3. **Bucle de búsqueda:** En un bucle, sigue estos pasos hasta que el \"inicio\" sea mayor que el \"fin\" (lo que significa que has reducido el rango de búsqueda a un solo elemento o ninguno):<br>\n",
    "**a)** Calcula el índice medio del rango de búsqueda:** (inicio + fin) / 2.<br>\n",
    "**b)** Compara el elemento en el índice medio con el elemento objetivo que estás buscando.<br>\n",
    "**c)** Si el elemento en el índice medio es igual al elemento objetivo, has encontrado una coincidencia y el algoritmo termina.<br>\n",
    "**d)** Si el elemento en el índice medio es menor que el elemento objetivo, actualiza el valor de \"inicio\" para que sea el índice medio + 1. Esto significa que ahora buscarás en la mitad derecha del rango de búsqueda.<br>\n",
    "**e)** Si el elemento en el índice medio es mayor que el elemento objetivo, actualiza el valor de \"fin\" para que sea el índice medio - 1. Esto significa que ahora buscarás en la mitad izquierda del rango de búsqueda.\n",
    "\n",
    "Resultado: Una vez que el bucle termine, si no se encontró ninguna coincidencia, significa que el elemento objetivo no está en la colección.\n",
    "\n"
   ]
  },
  {
   "cell_type": "code",
   "execution_count": 3,
   "metadata": {},
   "outputs": [
    {
     "name": "stdout",
     "output_type": "stream",
     "text": [
      "[1, 5, 8, 14, 21, 23, 26, 31, 34, 37, 43, 45, 46, 47, 48, 49, 53, 54, 59, 60, 64, 65, 69]\n"
     ]
    }
   ],
   "source": [
    "dataset_sorted = list(set(dataset))\n",
    "num2find = 34\n",
    "print(dataset_sorted)"
   ]
  },
  {
   "cell_type": "code",
   "execution_count": 4,
   "metadata": {},
   "outputs": [
    {
     "name": "stdout",
     "output_type": "stream",
     "text": [
      "Medium value is greater than num2find\n",
      "Medium value is lower than num2find\n",
      "Value found! | Position: 8\n"
     ]
    },
    {
     "data": {
      "text/plain": [
       "'Position: 8'"
      ]
     },
     "execution_count": 4,
     "metadata": {},
     "output_type": "execute_result"
    }
   ],
   "source": [
    "start = 0\n",
    "end = len(dataset_sorted)\n",
    "middle = (start + end)//2\n",
    "\n",
    "def binary_search(dataset_sorted, start, end, num2find):\n",
    "    middle = (start + end)//2\n",
    "    if start > end:\n",
    "        return \"The number does not exist\"\n",
    "    \n",
    "    if (dataset_sorted[middle]) == num2find:\n",
    "        print(f\"Value found! | Position: {middle}\")\n",
    "        return f\"Position: {middle}\"\n",
    "    elif (dataset_sorted[middle]) < num2find:\n",
    "        start = middle + 1\n",
    "        print(\"Medium value is lower than num2find\")\n",
    "        return binary_search(dataset_sorted, start, end, num2find)\n",
    "    elif (dataset_sorted[middle] > num2find):\n",
    "        end = middle - 1\n",
    "        print(\"Medium value is greater than num2find\")\n",
    "        return binary_search(dataset_sorted, start, end, num2find)\n",
    "\n",
    "binary_search(dataset_sorted, start, end, num2find)"
   ]
  },
  {
   "cell_type": "markdown",
   "metadata": {},
   "source": [
    "#### **Búsqueda Hash (basica)**\n",
    "----"
   ]
  },
  {
   "cell_type": "markdown",
   "metadata": {},
   "source": [
    "Un algoritmo de búsqueda con tablas de hash, también conocido como búsqueda hash, es una técnica eficiente para recuperar información de una estructura de datos conocida como tabla hash o diccionario hash. Este tipo de estructura de datos utiliza una función de hash para mapear una clave (key) a un valor (value). En lugar de buscar elementos uno por uno en una lista o matriz, la búsqueda se acelera mediante el uso de esta función de hash.\n",
    "\n"
   ]
  },
  {
   "cell_type": "markdown",
   "metadata": {},
   "source": [
    "Algunos conceptos claves:\n",
    "\n",
    "\n",
    "- **Función de Hash:** Es una función que toma una clave como entrada y devuelve un valor numérico (hash code o índice) que se utilizará para acceder a la ubicación de almacenamiento del valor asociado con esa clave. La función de hash debe ser determinista, lo que significa que siempre debe producir el mismo valor hash para la misma clave.\n",
    "\n",
    "- **Tabla Hash:** Es una estructura de datos que consta de un arreglo (array) de \"contenedores\" o \"buckets\". Cada bucket puede contener uno o más pares clave-valor. La función de hash se utiliza para determinar en qué bucket debe almacenarse o buscarse un par clave-valor.\n",
    "\n",
    "- **Inserción:** Para insertar un nuevo par clave-valor en una tabla hash, se aplica la función de hash a la clave para calcular la ubicación del bucket. Si hay colisiones (es decir, varios elementos tienen el mismo valor hash), se pueden resolver de diversas formas, como el uso de listas vinculadas en el mismo bucket.\n",
    "\n",
    "- **Búsqueda:** Para buscar un valor a partir de una clave en una tabla hash, se aplica la función de hash a la clave para encontrar el bucket correspondiente y, luego, se busca en ese bucket para encontrar el valor.\n",
    "\n",
    "- **Colisiones:** Las colisiones ocurren cuando dos o más claves generan el mismo valor hash y deben ser almacenadas en el mismo bucket. Las colisiones se manejan de diferentes maneras, como listas vinculadas, árboles, o incluso funciones de hash más avanzadas.\n",
    "\n",
    "- **Rendimiento:** La búsqueda en una tabla hash suele ser muy rápida, con una complejidad promedio de tiempo de O(1) para la búsqueda, inserción y eliminación, si la función de hash es efectiva y las colisiones se manejan adecuadamente."
   ]
  },
  {
   "cell_type": "markdown",
   "metadata": {},
   "source": [
    "Es importante elegir o diseñar una función de hash eficiente para minimizar las colisiones y garantizar un rendimiento óptimo. Además, la capacidad de la tabla hash (el número de buckets) debe ajustarse adecuadamente para evitar colisiones excesivas o desperdicio de memoria"
   ]
  },
  {
   "cell_type": "code",
   "execution_count": 5,
   "metadata": {},
   "outputs": [],
   "source": [
    "def hashing(word):\n",
    "    value = 0\n",
    "    for i, c in enumerate(word):\n",
    "        i=i+1\n",
    "        value += (i * ord(c))\n",
    "    return value"
   ]
  },
  {
   "cell_type": "code",
   "execution_count": 6,
   "metadata": {},
   "outputs": [],
   "source": [
    "class HashTable:\n",
    "    def __init__(self, size=10):\n",
    "        self.data = [None] * size\n",
    "        self.size = size\n",
    "        \n",
    "    def __setitem__(self, key, value):\n",
    "        index = hashing(key) % self.size\n",
    "        self.data[index] = value\n",
    "        \n",
    "    def __getitem__(self, key):\n",
    "        return self.data[\n",
    "            hashing(key) % self.size\n",
    "        ]\n",
    "        \n",
    "    def __repr__(self):\n",
    "        return f\"Hash Table\\n{self.data}\""
   ]
  },
  {
   "cell_type": "code",
   "execution_count": 7,
   "metadata": {},
   "outputs": [],
   "source": [
    "hashtable = HashTable(5)\n",
    "hashtable['listen'] = 'ok'\n",
    "hashtable['magic'] = 'there is'\n",
    "hashtable['master'] = 'Joe'"
   ]
  },
  {
   "cell_type": "markdown",
   "metadata": {},
   "source": [
    "#### **Búsqueda Deep First Search (DFS)**\n",
    "----"
   ]
  },
  {
   "cell_type": "markdown",
   "metadata": {},
   "source": [
    "El algoritmo de búsqueda en profundidad (DFS) también se aplica comúnmente a árboles binarios. La diferencia principal es que en un árbol binario, cada nodo tiene, como máximo, dos hijos: uno izquierdo y uno derecho. La aplicación de DFS en un árbol binario sigue los mismos principios generales que se describen en la respuesta anterior, pero con algunas modificaciones para adaptarse a la estructura del árbol binario. Aquí tienes una explicación de cómo funciona el algoritmo DFS en un árbol binario."
   ]
  },
  {
   "cell_type": "markdown",
   "metadata": {},
   "source": [
    "Funcionamiento del algoritmo:"
   ]
  },
  {
   "cell_type": "markdown",
   "metadata": {},
   "source": [
    "1. Comienza en el nodo raíz del árbol binario.\n",
    "2. Procesa el nodo actual (por ejemplo, imprime su valor).\n",
    "3. Si el nodo actual tiene un hijo izquierdo, llama recursivamente a la función DFS en el hijo izquierdo.\n",
    "4. Si el nodo actual tiene un hijo derecho, llama recursivamente a la función DFS en el hijo derecho.\n",
    "5. La recursión se encargará de explorar todo el árbol, y cuando alcances un nodo sin hijos izquierdos o derechos, la recursión retrocederá automáticamente al nodo padre y continuará explorando otros nodos.\n",
    "\n",
    "\n",
    "Repite los pasos 2-4 hasta que hayas explorado todos los nodos del árbol."
   ]
  },
  {
   "cell_type": "code",
   "execution_count": 8,
   "metadata": {},
   "outputs": [],
   "source": [
    "class Node:\n",
    "    def __init__(self, value):\n",
    "        self.value = value\n",
    "        self.visited = False\n",
    "        self.left = None\n",
    "        self.right = None\n",
    "        \n",
    "    def __repr__(self):\n",
    "        return f\" {self.left is not None} <= \\\"{self.value}\\\" => {self.right is not None}\""
   ]
  },
  {
   "cell_type": "code",
   "execution_count": 9,
   "metadata": {},
   "outputs": [],
   "source": [
    "\n",
    "class BinaryTree:\n",
    "\n",
    "  # Funciones privadas del arbol\n",
    "  def __init__(self, root_value=None):\n",
    "    self.root = Node(root_value)\n",
    "\n",
    "  # Inserting\n",
    "  def __add_recursive(self, node, value):\n",
    "    # The new value is lower that the current value in node?\n",
    "    if value < node.value:\n",
    "      if node.left is None: # Yes but, The next left node is free to use?\n",
    "        node.left = Node(value) # Yes it is!, let's create new node and save it\n",
    "      else:\n",
    "          self.__add_recursive(node.left, value) # Not is it, keep searching\n",
    "    else:\n",
    "      # The new value is higher that the current value in node.\n",
    "        if node.right is None: # The next right node is free to use?\n",
    "          node.right = Node(value)\n",
    "        else:\n",
    "          self.__add_recursive(node.right, value) # Not is filled, keep searching\n",
    "  \n",
    "  def __restart__(self, node):\n",
    "    node.visited=False\n",
    "    if node.left is not None:\n",
    "      return self.__restart__(node.left)\n",
    "    elif node.right is not None:\n",
    "      return self.__restart__(node.right)\n",
    "      \n",
    "    \n",
    "  def __dfs__(self, node, value):\n",
    "    if node.value == value:\n",
    "      print(\"Found!\")\n",
    "      self.__restart__(self.root)\n",
    "      return node.value\n",
    "    else:\n",
    "      if node.left is not None:\n",
    "        if node.left.visited == False:\n",
    "          return self.__dfs__(node.left, value)\n",
    "        \n",
    "      elif node.right is not None:\n",
    "        if node.right.visited == False:\n",
    "          return self.__dfs__(node.right, value)\n",
    "        \n",
    "      if (node.left is None) & (node.right is None):\n",
    "        node.visited = True\n",
    "        print(\"Not found!\")\n",
    "        \n",
    "        self.__restart__(self.root)\n",
    "        return False\n",
    "    \n",
    "  \n",
    "  \n",
    "  # Funciones publicas\n",
    "  def insert(self, value):\n",
    "    self.__add_recursive(self.root, value)\n",
    "    return 'Inserted'\n",
    "  \n",
    "  def search(self, value):\n",
    "    return self.__dfs__(self.root, value)"
   ]
  },
  {
   "cell_type": "code",
   "execution_count": 10,
   "metadata": {},
   "outputs": [
    {
     "data": {
      "text/plain": [
       "'Inserted'"
      ]
     },
     "execution_count": 10,
     "metadata": {},
     "output_type": "execute_result"
    }
   ],
   "source": [
    "arbol = BinaryTree(\"America\")\n",
    "arbol.insert(\"Bruno\")\n",
    "arbol.insert(\"Carla\")\n",
    "arbol.insert(\"Daniel\")\n",
    "arbol.insert(\"Carol\")"
   ]
  },
  {
   "cell_type": "code",
   "execution_count": 11,
   "metadata": {},
   "outputs": [
    {
     "name": "stdout",
     "output_type": "stream",
     "text": [
      " False <= \"America\" => True\n",
      " False <= \"Bruno\" => True\n",
      " False <= \"Carla\" => True\n",
      " True <= \"Daniel\" => False\n",
      " False <= \"Carol\" => False\n"
     ]
    }
   ],
   "source": [
    "print(arbol.root)\n",
    "print(arbol.root.right)\n",
    "print(arbol.root.right.right)\n",
    "print(arbol.root.right.right.right)\n",
    "print(arbol.root.right.right.right.left)"
   ]
  },
  {
   "cell_type": "code",
   "execution_count": 12,
   "metadata": {},
   "outputs": [
    {
     "name": "stdout",
     "output_type": "stream",
     "text": [
      "Found!\n"
     ]
    },
    {
     "data": {
      "text/plain": [
       "'Carla'"
      ]
     },
     "execution_count": 12,
     "metadata": {},
     "output_type": "execute_result"
    }
   ],
   "source": [
    "#NOTE:\n",
    "#+ El algoritmo puede mejorar quitando la recursividad en los visitados y meter lso nodos visitados en una pila\n",
    "arbol.search(\"Carla\")"
   ]
  },
  {
   "cell_type": "markdown",
   "metadata": {},
   "source": [
    "#### **Búsqueda Breadth First Search (BFS)**\n",
    "----"
   ]
  },
  {
   "cell_type": "markdown",
   "metadata": {},
   "source": [
    "La búsqueda en anchura (BFS, por sus siglas en inglés, Breadth-First Search) es un algoritmo que se utiliza para recorrer o buscar elementos en un árbol o un grafo. Cuando se aplica a un árbol binario, el algoritmo visita todos los nodos de nivel 0 (la raíz), luego todos los nodos de nivel 1, luego todos los nodos de nivel 2, y así sucesivamente. El proceso de búsqueda comienza en la raíz y se mueve horizontalmente (explorando todos los nodos del mismo nivel) antes de pasar al siguiente nivel. Aquí tienes una explicación paso a paso de cómo funciona la búsqueda en anchura en un árbol binario:"
   ]
  },
  {
   "cell_type": "markdown",
   "metadata": {},
   "source": [
    "1. Comienza por visitar el nodo raíz del árbol. Este nodo se considera el nivel 0.\n",
    "2. Luego, visita todos los nodos del nivel 0 antes de pasar al nivel 1.\n",
    "3. Para visitar un nodo, se agregan sus hijos (si los tiene) a una cola.\n",
    "4. Una vez que hayas visitado todos los nodos del nivel actual, tomas el siguiente nodo de la cola y repites el proceso. Esto garantiza que los nodos de un nivel se visiten antes de pasar al siguiente nivel.\n",
    "5. Continúa recorriendo y visitando nodos en orden de nivel hasta que hayas visitado todos los nodos del árbol.\n",
    "\n"
   ]
  },
  {
   "cell_type": "code",
   "execution_count": 13,
   "metadata": {},
   "outputs": [],
   "source": [
    "class Node:\n",
    "    def __init__(self, value):\n",
    "        self.value = value\n",
    "        self.visited = False\n",
    "        self.left = None\n",
    "        self.right = None\n",
    "        \n",
    "    def __repr__(self):\n",
    "        return f\" {self.left is not None} <= \\\"{self.value}\\\" => {self.right is not None}\""
   ]
  },
  {
   "cell_type": "code",
   "execution_count": 14,
   "metadata": {},
   "outputs": [],
   "source": [
    "\n",
    "class BinaryTree:\n",
    "  def __init__(self, root_value=None):\n",
    "    self.root = Node(root_value)\n",
    "    self.queue_of_slots = [self.root]\n",
    "    \n",
    "  def __add_by_levels(self, value):\n",
    "    curret_node = self.queue_of_slots[0]\n",
    "    if curret_node.left is None:\n",
    "      curret_node.left = Node(value)\n",
    "      self.queue_of_slots.append(curret_node.left)\n",
    "    elif curret_node.right is None:\n",
    "      curret_node.right = Node(value)\n",
    "      self.queue_of_slots.append(curret_node.right)\n",
    "    \n",
    "    if (curret_node.left is not None) & (curret_node.right is not None): \n",
    "      self.queue_of_slots.pop(0)\n",
    "    \n",
    "  def __bfs(self, value):\n",
    "    while(len(self.queue_of_slots) > 0):\n",
    "      current_node = self.queue_of_slots.pop(0)\n",
    "      if current_node.value == value:\n",
    "        print(\"Value Found!\")\n",
    "        print(type(current_node))\n",
    "        return current_node\n",
    "      else:\n",
    "        print(\"Siguiendo la busqueda\")\n",
    "        if current_node.left is not None:\n",
    "          self.queue_of_slots.append(current_node.left)\n",
    "        if current_node.right is not None:\n",
    "          self.queue_of_slots.append(current_node.right)\n",
    "    \n",
    "    print(\"No encontrado!\")\n",
    "    return None\n",
    "    \n",
    "  def insert(self, value):\n",
    "    self.__add_by_levels(value)\n",
    "    return 'added'\n",
    "  \n",
    "\n",
    "  def search(self, value):\n",
    "    self.queue_of_slots = [self.root]\n",
    "    self.__bfs(value)\n"
   ]
  },
  {
   "cell_type": "code",
   "execution_count": 15,
   "metadata": {},
   "outputs": [
    {
     "name": "stdout",
     "output_type": "stream",
     "text": [
      "[ False <= \"B1\" => False,  False <= \"B2\" => False,  False <= \"B3\" => False,  False <= \"B4\" => False]\n"
     ]
    }
   ],
   "source": [
    "tree = BinaryTree(\"Raiz\")\n",
    "tree.insert(\"A1\")\n",
    "tree.insert(\"A2\")\n",
    "tree.insert(\"B1\")\n",
    "tree.insert(\"B2\")\n",
    "tree.insert(\"B3\")\n",
    "tree.insert(\"B4\")\n",
    "print(tree.queue_of_slots)"
   ]
  },
  {
   "cell_type": "code",
   "execution_count": 16,
   "metadata": {},
   "outputs": [
    {
     "name": "stdout",
     "output_type": "stream",
     "text": [
      "\t\t\t\t\t  True <= \"Raiz\" => True\n",
      "\t\t  True <= \"A1\" => True \t\t\t\t\t\t  True <= \"A2\" => True\n",
      " False <= \"B1\" => False \t  False <= \"B2\" => False \t\t  False <= \"B3\" => False \t  False <= \"B4\" => False\n"
     ]
    }
   ],
   "source": [
    "print(\"\\t\\t\\t\\t\\t\",tree.root)\n",
    "print(\"\\t\\t\",tree.root.left,\"\\t\\t\\t\\t\\t\\t\",tree.root.right)\n",
    "print(tree.root.left.left, \"\\t\", tree.root.left.right, \"\\t\\t\", tree.root.right.left,  \"\\t\", tree.root.right.right)"
   ]
  },
  {
   "cell_type": "code",
   "execution_count": 19,
   "metadata": {},
   "outputs": [
    {
     "name": "stdout",
     "output_type": "stream",
     "text": [
      "Siguiendo la busqueda\n",
      "Siguiendo la busqueda\n",
      "Value Found!\n",
      "<class '__main__.Node'>\n"
     ]
    }
   ],
   "source": [
    "tree.search(\"A2\")"
   ]
  }
 ],
 "metadata": {
  "kernelspec": {
   "display_name": "campeche",
   "language": "python",
   "name": "python3"
  },
  "language_info": {
   "codemirror_mode": {
    "name": "ipython",
    "version": 3
   },
   "file_extension": ".py",
   "mimetype": "text/x-python",
   "name": "python",
   "nbconvert_exporter": "python",
   "pygments_lexer": "ipython3",
   "version": "3.8.15"
  }
 },
 "nbformat": 4,
 "nbformat_minor": 2
}
