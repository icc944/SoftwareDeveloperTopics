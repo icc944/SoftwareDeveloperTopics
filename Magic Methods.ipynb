{
 "cells": [
  {
   "cell_type": "markdown",
   "metadata": {},
   "source": [
    "## <center> **Magic Methods Python** </center>\n",
    "---"
   ]
  },
  {
   "cell_type": "markdown",
   "metadata": {},
   "source": [
    "<center> Magic methods, also known as special methods or dunder methods (for \"double underscore\" in English, since they usually start and end with two underscores), <br>\n",
    "are predefined methods in Python that have a special meaning and are called automatically in certain contexts. when working with objects of a class. <br>\n",
    "These methods allow classes to define custom math behaviors for specific operations, such as initialization, rendering, comparison, and more.</center>"
   ]
  },
  {
   "cell_type": "markdown",
   "metadata": {},
   "source": [
    "### **Construction and Initialization**"
   ]
  },
  {
   "cell_type": "markdown",
   "metadata": {},
   "source": [
    "- **__new__(cls, ...):** Is the first method to get called in an object's instantiation. It takes the class, then any other arguments that it will pass along to __init__. __new__ is used fairly rarely, but it does have its purposes, particularly when subclassing an immutable type like a tuple or a string. I don't want to go in to too much detail on __new__ because it's not too useful, but it is covered in great detail in the\n",
    "- **__init__(self, ...):**\n",
    "The initializer for the class. It gets passed whatever the primary constructor was called with (so, for example, if we called x = SomeClass(10, 'foo'), __init__ would get passed 10 and 'foo' as arguments. __init__ is almost universally used in Python class definitions.\n",
    "- **__del__(self):**\n",
    "If __new__ and __init__ formed the constructor of the object, __del__ is the destructor. It doesn't implement behavior for the statement del x (so that code would not translate to x.__del__()). Rather, it defines behavior for when an object is garbage collected. It can be quite useful for objects that might require extra cleanup upon deletion, like sockets or file objects"
   ]
  },
  {
   "cell_type": "code",
   "execution_count": 1,
   "metadata": {},
   "outputs": [
    {
     "name": "stdout",
     "output_type": "stream",
     "text": [
      "Box created!\n",
      "Box deleted!\n"
     ]
    }
   ],
   "source": [
    "class Box:\n",
    "    def __new__(cls):\n",
    "        print(\"Box created!\")\n",
    "        instance=super().__new__(cls)\n",
    "        return instance\n",
    "    \n",
    "    def __init__(self,  width=10, large=10, height=10):\n",
    "        self.width=width\n",
    "        self.height=height\n",
    "        self.large=large\n",
    "    \n",
    "    def __del__(self):\n",
    "        print(\"Box deleted!\")\n",
    "    \n",
    "mybox = Box()\n",
    "del(mybox)"
   ]
  },
  {
   "cell_type": "markdown",
   "metadata": {},
   "source": [
    "### **Making Operators Work on Custom Classes**\n",
    "---"
   ]
  },
  {
   "cell_type": "markdown",
   "metadata": {},
   "source": [
    "#### **Comparison magic methods**"
   ]
  },
  {
   "cell_type": "markdown",
   "metadata": {},
   "source": [
    "Python has a whole slew of magic methods designed to implement intuitive comparisons between objects using operators, not awkward method calls. They also provide a way to override the default Python behavior for comparisons of objects."
   ]
  },
  {
   "cell_type": "markdown",
   "metadata": {},
   "source": [
    "- **\\__cmp__:** Is the most basic methods of comparison, implement behavior for all of the comparison methods operators (<, ==, >, !=, ...), but can be conflict\n",
    "- **\\__qe__:** Defines behavior for the equality operador, ==\n",
    "- **\\__ne__:** Defines behavior for the inequity operador, !=\n",
    "- **\\__it__:** Defines behavior for the less-than operador, <\n",
    "- **\\__gt__:** Defines behavior for the greater-than operador, >\n",
    "- **\\__le__:** Defines behavior for the less-than or equal-to operador, <=\n",
    "- **\\__ge__:** Defines behavior for the greater-than or equal-to operador, >="
   ]
  },
  {
   "cell_type": "code",
   "execution_count": 14,
   "metadata": {},
   "outputs": [],
   "source": [
    "class Employee:\n",
    "    \n",
    "    def __new__(cls, id, name, age, gender, salary):\n",
    "        print(f\"Employee \\\"{name}\\\" created successfully!\")\n",
    "        instance=super().__new__(cls)\n",
    "        return instance\n",
    "        \n",
    "    def __init__(self, id, name, age, gender, salary):\n",
    "        self.id = id\n",
    "        self.name = name\n",
    "        self.age = age\n",
    "        self.gender = gender\n",
    "        self.salary = salary\n",
    "    \n",
    "    def __eq__(self, other):\n",
    "        return self.id == other.id\n",
    "    \n",
    "    def __ne__(self, other):\n",
    "        return self.gender != other.gender\n",
    "    \n",
    "    def __lt__(self, other):\n",
    "        return int(self.age) < other.age\n",
    "    \n",
    "    def __gt__(self, other):\n",
    "        return int(self.age) > other.age\n",
    "    \n",
    "    def __le__(self, other):\n",
    "        return int(self.salary) <= other.salary\n",
    "    \n",
    "    def __ge__(self, other):\n",
    "        return int(self.salary) >= other.salary"
   ]
  },
  {
   "cell_type": "code",
   "execution_count": 15,
   "metadata": {},
   "outputs": [
    {
     "name": "stdout",
     "output_type": "stream",
     "text": [
      "Employee \"Me\" created successfully!\n",
      "Employee \"Doña Kekas\" created successfully!\n"
     ]
    }
   ],
   "source": [
    "me = Employee(44666,'Me', 23, 'Male', 1500)\n",
    "doñaKekas = Employee(23105,'Doña Kekas', 64, 'Female', 4500)"
   ]
  },
  {
   "cell_type": "code",
   "execution_count": 19,
   "metadata": {},
   "outputs": [
    {
     "name": "stdout",
     "output_type": "stream",
     "text": [
      "False True True False True False\n"
     ]
    }
   ],
   "source": [
    "print(\n",
    "    (me == doñaKekas), #* By the id\n",
    "    (me != doñaKekas), #* True, She is a woman\n",
    "    (me <  doñaKekas), #* True, I'm older than doñaKeka\n",
    "    (me >  doñaKekas), #* False, She is older than me\n",
    "    (me <= doñaKekas), #* True, She is richeShe is richer than mer than me\n",
    "    (me >= doñaKekas) #* False, \n",
    ")"
   ]
  },
  {
   "cell_type": "markdown",
   "metadata": {},
   "source": [
    "#### **Numeric magic methods**"
   ]
  },
  {
   "cell_type": "markdown",
   "metadata": {},
   "source": [
    "Just like you can create ways for instances of your class to be compared with comparison operators, you can define behavior for numeric operators. Buckle your seat belts, folks...there's a lot of these. For organization's sake, I've split the numeric magic methods into 5 categories: unary operators, normal arithmetic operators, reflected arithmetic operators (more on this later), augmented assignment, and type conversions."
   ]
  },
  {
   "cell_type": "markdown",
   "metadata": {},
   "source": [
    "##### Unary operators and functions"
   ]
  },
  {
   "cell_type": "markdown",
   "metadata": {},
   "source": [
    "- **\\__pos__:** Implements behavior for unitary positive.\n",
    "- **\\__neg__:** Implements behavior for unitary negative.\n",
    "- **\\__abs__:** Implements behavior for built funct.\n",
    "- **\\__invert__:** Implements behavior for using the invert operator.\n",
    "- **\\__round__:** Implements behavior for round function.\n",
    "- **\\__floor__:** Implements behavior for rounding down function.\n",
    "- **\\__ceil__:** Implements behavior for rounding up function.\n",
    "- **\\__trunc__:** Implements behavior for an integer."
   ]
  },
  {
   "cell_type": "code",
   "execution_count": 108,
   "metadata": {},
   "outputs": [],
   "source": [
    "class CreditCard:\n",
    "    def __init__(self, balance):\n",
    "        self.balance = balance\n",
    "        self.credit = 1000\n",
    "    \n",
    "    def __pos__(self):\n",
    "        self.balance = self.balance + 0.5\n",
    "        self.credit = self.credit - 0.5\n",
    "        return self\n",
    "    \n",
    "    def __neg__(self):\n",
    "        self.balance = self.balance - 1.5\n",
    "        self.credit = self.credit + 1.5\n",
    "        return self\n",
    "    \n",
    "    def __abs__(self):\n",
    "        #* Enable\n",
    "        print(\"Enable Credit Card\")\n",
    "        return self.credit - self.balance\n",
    "    \n",
    "    def __repr__(self):\n",
    "        return f\"CREDIT CARD\\nSaldo: ${self.balance}\""
   ]
  },
  {
   "cell_type": "code",
   "execution_count": 109,
   "metadata": {},
   "outputs": [
    {
     "name": "stdout",
     "output_type": "stream",
     "text": [
      "CREDIT CARD\n",
      "Saldo: $100 \n",
      "\n",
      "CREDIT CARD\n",
      "Saldo: $105.5 \n",
      "\n",
      "CREDIT CARD\n",
      "Saldo: $96.5 \n",
      "\n",
      "Enable Credit Card\n",
      "906.0\n"
     ]
    }
   ],
   "source": [
    "myWallet = CreditCard(100)\n",
    "print(myWallet,\"\\n\")    \n",
    "for i in range(10):\n",
    "    +myWallet\n",
    "print(+myWallet,\"\\n\")\n",
    "for i in range(5):\n",
    "    -myWallet\n",
    "print(-myWallet, \"\\n\")\n",
    "\n",
    "print(abs(+myWallet))"
   ]
  },
  {
   "cell_type": "code",
   "execution_count": null,
   "metadata": {},
   "outputs": [],
   "source": []
  }
 ],
 "metadata": {
  "kernelspec": {
   "display_name": "campeche",
   "language": "python",
   "name": "python3"
  },
  "language_info": {
   "codemirror_mode": {
    "name": "ipython",
    "version": 3
   },
   "file_extension": ".py",
   "mimetype": "text/x-python",
   "name": "python",
   "nbconvert_exporter": "python",
   "pygments_lexer": "ipython3",
   "version": "3.8.15"
  },
  "orig_nbformat": 4
 },
 "nbformat": 4,
 "nbformat_minor": 2
}
