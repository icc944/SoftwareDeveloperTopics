{
  "cells": [
    {
      "cell_type": "markdown",
      "metadata": {
        "id": "WrQi2SK6XV8u"
      },
      "source": [
        "### **Estructura de datos**\n",
        "---"
      ]
    },
    {
      "cell_type": "markdown",
      "metadata": {
        "id": "VxphvstcuivF"
      },
      "source": [
        "Un dato simple, no esta compuesto por otras estructuras, que no sean los bits, y que por tanto su representación sobre el ordenador es directa, sin embargo, existen unas operaciones propias de cada tipo.\n",
        "Una **estructura de datos** es, a grandes rasgos, una colección de datos (normalmente de tipo simple) que se caracterizan por su organización y las operaciones que se definen en ellos."
      ]
    },
    {
      "cell_type": "markdown",
      "metadata": {
        "id": "4vXmnWNUbkSu"
      },
      "source": [
        "#### Linked List\n",
        "---"
      ]
    },
    {
      "cell_type": "markdown",
      "metadata": {
        "id": "OD7PX4LudXI-"
      },
      "source": [
        "Una lista enlazada es una estructura de datos dinámica. La cantidad de nodos en una lista no es fija y puede crecer y contraerse a demanda. Cualquier aplicación que tenga que tratar con un número desconocido de objetos necesitará usar una lista vinculada.\n",
        "\n",
        "\n",
        "Una desventaja de una lista vinculada frente a una matriz es que no permite el acceso directo a los elementos individuales. Si desea acceder a un artículo en particular, debe comenzar por la cabecera y seguir las referencias hasta que llegue a ese artículo."
      ]
    },
    {
      "cell_type": "markdown",
      "metadata": {
        "id": "nYM4bns7de92"
      },
      "source": [
        "**Desventajas:**\n",
        "\n",
        "- Utilizan más memoria que las matrices debido al almacenamiento utilizado por sus punteros.\n",
        "- Los nodos en una lista vinculada deben leerse en orden desde el principio, ya que las listas vinculadas son intrínsecamente de acceso secuencial.\n",
        "- Los nodos se almacenan de forma incontinua, lo que aumenta en gran medida los períodos de tiempo necesarios para acceder a elementos individuales dentro de la lista, especialmente con un caché de CPU .\n",
        "- Las dificultades surgen en las listas vinculadas cuando se trata de atravesar en reversa. Por ejemplo, las listas vinculadas individualmente son engorrosas para navegar hacia atrás y mientras que las listas doblemente enlazadas son algo más fáciles de leer, la memoria se consume al asignar espacio para un puntero reverso"
      ]
    },
    {
      "cell_type": "code",
      "execution_count": 112,
      "metadata": {
        "id": "R2FA2roDWLdH"
      },
      "outputs": [],
      "source": [
        "class Node:\n",
        "  def __init__(self, data=None, next=None):\n",
        "    self.data = data\n",
        "    self.next = next"
      ]
    },
    {
      "cell_type": "code",
      "execution_count": 113,
      "metadata": {
        "id": "Y5T6tC6olpMC"
      },
      "outputs": [],
      "source": [
        "class LinkedList:\n",
        "  def __init__(self):\n",
        "   self.head = None #* Apuntador que inicia la lista\n",
        "\n",
        "\n",
        "  # [Metodo]: Añadir elemento al frente de la lista\n",
        "  def ammend(self, data):\n",
        "    # Creo nuevo nodo y lo asocio\n",
        "    new_instance = Node(data=data, next=self.head)\n",
        "    self.head = new_instance # Ahora la cabezera será el nuevo nodo\n",
        "\n",
        "  # [Metodo]: Añadir elemento al final de la lista\n",
        "  def append(self, data):\n",
        "    if not self.head:\n",
        "      new_instance = Node(data=data, next=None) # Instancio un nodo, que no apunta a nada o al que era el primero si ya existia algo\n",
        "      self.head = new_instance  # Lo vuelvo la cabezera\n",
        "      return 'Added'\n",
        "\n",
        "    # Buscar el último nodo en la LinkedList\n",
        "    current_node = self.head\n",
        "    while current_node.next:\n",
        "        current_node = current_node.next\n",
        "    current_node.next = Node(data=data, next=None) # Instancio y añado el nuevo nodo\n",
        "\n",
        "\n",
        "  # [Metodo]: Eliminar nodo de la lista\n",
        "  def drop_node(self, key):\n",
        "    if not self.head: return # No puede eliminar si no hay nada\n",
        "\n",
        "    if self.head.data == key:  # Si el valor a eliminar está en el primer nodo\n",
        "      self.head = self.head.next  # Actualiza la cabeza para saltar el primer nodo (python en automatico debe eliinar el nodo)\n",
        "      return\n",
        "\n",
        "    current_node = self.head\n",
        "    while current_node: # Recorre la lista hasta el penúltimo nodo\n",
        "      if current_node.next.data == key: # Si el siguiente nodo contiene el valor a eliminar\n",
        "        current_node.next = current_node.next.next  #Salta el siguiente nodo, eliminándolo\n",
        "        return\n",
        "      current_node = current_node.next # Avanza al siguiente nodo\n",
        "\n",
        "  # [Metodo]: Obtener el ultimo nodo\n",
        "  def last(self):\n",
        "    current_node = self.head\n",
        "    while current_node.next is not None:\n",
        "      current_node = current_node.next\n",
        "    return current_node.data\n",
        "\n",
        "  # [Metodo]: Mostrar lista\n",
        "  def show(self):\n",
        "    node = self.head\n",
        "    while node != None:\n",
        "      print(node.data, end=\" => \")\n",
        "      node = node.next\n",
        "    print(\"None\")\n",
        "\n",
        "  def __repr__(self):\n",
        "    rep=\"\"\n",
        "    node = self.head\n",
        "    while node != None:\n",
        "      rep+=f\"{node.data} => \"\n",
        "      node = node.next\n",
        "    rep += \"None\"\n",
        "    return rep\n"
      ]
    },
    {
      "cell_type": "code",
      "execution_count": 114,
      "metadata": {
        "colab": {
          "base_uri": "https://localhost:8080/"
        },
        "id": "_U0ysthh9Txx",
        "outputId": "3c2d793b-5bad-4994-fe10-bbcad1cd31ae"
      },
      "outputs": [
        {
          "name": "stdout",
          "output_type": "stream",
          "text": [
            "[1, 2, 3] => [4, 5, 6] => None\n"
          ]
        }
      ],
      "source": [
        "linked_list = LinkedList()\n",
        "linked_list.ammend([1,2,3])\n",
        "linked_list.append([4,5,6])\n",
        "\n",
        "linked_list.show()"
      ]
    },
    {
      "cell_type": "code",
      "execution_count": 115,
      "metadata": {
        "colab": {
          "base_uri": "https://localhost:8080/"
        },
        "id": "5H7cfbjbBIlS",
        "outputId": "8e864352-a7b6-40ec-e8d7-1cae5e20aff0"
      },
      "outputs": [
        {
          "data": {
            "text/plain": [
              "[1, 2, 3] => [4, 5, 6] => None"
            ]
          },
          "execution_count": 115,
          "metadata": {},
          "output_type": "execute_result"
        }
      ],
      "source": [
        "linked_list"
      ]
    },
    {
      "cell_type": "markdown",
      "metadata": {
        "id": "_EsZwwfMzBu8"
      },
      "source": [
        "#### Stacks\n",
        "---"
      ]
    },
    {
      "cell_type": "markdown",
      "metadata": {
        "id": "a2gZmbWhzEPo"
      },
      "source": [
        "Las pilas, también conocidas como stacks en inglés, son una estructura de datos en programación que se utiliza para almacenar y organizar elementos de manera lineal. Se caracterizan por seguir un principio conocido como \"Last In, First Out\" (LIFO), lo que significa que el último elemento agregado a la pila es el primero en ser retirado. Esto se asemeja a apilar objetos uno encima del otro y luego quitar el último objeto apilado antes de llegar a los objetos que están debajo.\n",
        "\n"
      ]
    },
    {
      "cell_type": "markdown",
      "metadata": {
        "id": "62QC_XdZz2uJ"
      },
      "source": [
        "**Ventajas de las pilas (stacks):**\n",
        "\n",
        "- **Simplicidad:** Las pilas son estructuras de datos simples de entender y de implementar. Tienen operaciones básicas como \"push\" para agregar elementos y \"pop\" para quitar elementos, lo que facilita su uso.\n",
        "\n",
        "- **Eficiencia:** Las operaciones de inserción (push) y eliminación (pop) de elementos en una pila son muy eficientes, ya que se realizan en tiempo constante, es decir, su tiempo de ejecución no depende del número de elementos en la pila.\n",
        "\n",
        "- **Reversión de datos:** Las pilas son útiles para invertir una secuencia de datos. Puedes empujar elementos en la pila en el orden original y luego pop para obtener los elementos en orden inverso.\n",
        "\n",
        "- **Gestión de llamadas a funciones:** Las pilas se utilizan en la gestión de llamadas a funciones en la memoria de una computadora. Cuando una función se llama, se coloca en la pila, y cuando la función termina, se elimina de la pila, lo que permite el retorno de llamadas."
      ]
    },
    {
      "cell_type": "markdown",
      "metadata": {
        "id": "TE5rXF-70Kdz"
      },
      "source": [
        "**Desventajas de las pilas (stacks):**\n",
        "\n",
        "- **Limitación de tamaño fijo:** En algunos lenguajes de programación, las pilas tienen un tamaño fijo, lo que significa que solo puedes almacenar un número limitado de elementos en ellas. Esto puede llevar a desbordamientos de pila si intentas agregar más elementos de los que la pila puede contener.\n",
        "\n",
        "- **Acceso limitado:** En una pila, solo puedes acceder al elemento superior (el último en ser agregado). No puedes acceder a elementos en medio de la pila sin quitar primero los elementos superiores, lo que limita su capacidad de acceso aleatorio.\n",
        "\n",
        "- **No es la mejor opción para todas las situaciones:** Las pilas son ideales para ciertas tareas, como gestionar llamadas a funciones o invertir datos, pero no son la estructura de datos adecuada para todas las aplicaciones. En algunos casos, una lista enlazada u otro tipo de estructura puede ser más apropiada."
      ]
    },
    {
      "cell_type": "code",
      "execution_count": 116,
      "metadata": {
        "id": "xN4CMxk41MHF"
      },
      "outputs": [],
      "source": [
        "class Stack:\n",
        "  def __init__(self):\n",
        "    self.items = []\n",
        "\n",
        "  @property\n",
        "  def is_empty(self):\n",
        "    return len(self.items) == 0\n",
        "\n",
        "  def push(self, item):\n",
        "    self.items.append (item)\n",
        "\n",
        "  def pop(self):\n",
        "    if not self.is_empty:\n",
        "      return self.items.pop()\n",
        "    else:\n",
        "      raise IndexError(\"La pila esta vacia\")\n",
        "\n",
        "  def __repr__(self):\n",
        "    text=\"\"\n",
        "    for x in reversed(self.items):\n",
        "      text+=f\"\\n\\t{x}\"\n",
        "\n",
        "    text+=\"\\n______base______\"\n",
        "    return text\n",
        "\n",
        "  def last(self):\n",
        "    if not self.is_empty:\n",
        "      return self.items[-1]\n",
        "    else:\n",
        "      raise IndexError(\"La pila esta vacia\")"
      ]
    },
    {
      "cell_type": "code",
      "execution_count": 192,
      "metadata": {},
      "outputs": [
        {
          "name": "stdout",
          "output_type": "stream",
          "text": [
            "Todo OK\n"
          ]
        }
      ],
      "source": [
        "stack = Stack()\n",
        "caracteres = \"({()()})\"\n",
        "equivalences = {\n",
        "     ']':'[', \n",
        "     '}':'{',  \n",
        "     ')':'('\n",
        "}\n",
        "equivalences.update({v:k for k,v in equivalences.items()})\n",
        "\n",
        "for c in [c for c in caracteres]:\n",
        "    if stack.is_empty == False:\n",
        "        if equivalences.get(c) == stack.last():\n",
        "            stack.pop()\n",
        "            continue\n",
        "    stack.push(c)\n",
        "\n",
        "if stack.is_empty:\n",
        "    print(\"Todo OK\")\n",
        "else:\n",
        "    print(\"Incorrecto\")"
      ]
    },
    {
      "cell_type": "markdown",
      "metadata": {
        "id": "J8KvM1Ov9z-i"
      },
      "source": [
        "#### Queue\n",
        "---"
      ]
    },
    {
      "cell_type": "markdown",
      "metadata": {
        "id": "lj3v7MJg-AHg"
      },
      "source": [
        "Es una estructura de datos que sigue el principio de \"First In, First Out\" (FIFO), lo que significa que el primer elemento que se agrega a la cola es el primero en ser eliminado. Imagina una fila de personas esperando en un supermercado; la persona que llega primero es la primera en ser atendida.\n",
        "\n"
      ]
    },
    {
      "cell_type": "markdown",
      "metadata": {
        "id": "hkDS7QgR-IrH"
      },
      "source": [
        "**Las operaciones principales en una cola son:**\n",
        "\n",
        "- **Enqueue (encolar):** Agregar un elemento al final de la cola.\n",
        "- **Dequeue (desencolar):** Quitar y obtener el elemento del frente de la cola.\n",
        "- **Front (frente):** Obtener el elemento del frente de la cola sin quitarlo.\n",
        "- **IsEmpty (está vacía):** Comprobar si la cola está vacía.\n"
      ]
    },
    {
      "cell_type": "markdown",
      "metadata": {
        "id": "pBeoycFn-v7E"
      },
      "source": [
        "**Ventajas de las colas:**\n",
        "\n",
        "- **Mantiene el orden:** La principal ventaja de una cola es que mantiene el orden de los elementos en el orden en que se agregaron. Esto garantiza que el primer elemento en ser agregado sea el primero en ser procesado, lo que es esencial en muchas aplicaciones.\n",
        "\n",
        "- **Aplicaciones en espera:** Las colas son ideales para implementar sistemas de espera, como colas de procesos, solicitudes de servicios, etc. Los elementos se manejan en el orden en que llegan, lo que garantiza una justa priorización.\n",
        "\n",
        "- **Gestión de tareas en lotes:** Las colas se utilizan en sistemas de procesamiento en lotes para garantizar que las tareas se ejecuten en secuencia, una tras otra.\n",
        "\n",
        "- **Implementación sencilla:** Las operaciones básicas de encolar (enqueue) y desencolar (dequeue) son simples y eficientes de implementar. Esto facilita la creación de colas en la mayoría de los lenguajes de programación.\n",
        "\n",
        "- **Estructura en tiempo real:** Las colas se utilizan en aplicaciones de tiempo real para gestionar eventos y tareas en el orden en que ocurren.\n",
        "\n"
      ]
    },
    {
      "cell_type": "markdown",
      "metadata": {
        "id": "uOVb84_x-3YV"
      },
      "source": [
        "**Desventajas de las colas:**\n",
        "\n",
        "- **Acceso limitado:** A diferencia de algunas otras estructuras de datos, como las listas enlazadas, las colas no admiten un acceso aleatorio a sus elementos. Solo puedes acceder al elemento frontal o posterior de la cola.\n",
        "\n",
        "- **Capacidad limitada:** En algunas implementaciones de colas, especialmente las basadas en arreglos, la capacidad puede ser limitada, lo que podría llevar a problemas de desbordamiento si se supera la capacidad máxima.\n",
        "\n",
        "- **Uso de memoria:** En aplicaciones con muchas colas o colas grandes, se puede utilizar una cantidad significativa de memoria, ya que todos los elementos deben almacenarse incluso si no se utilizan de inmediato.\n",
        "\n",
        "- **Complejidad de tiempo:** Algunas operaciones en colas, como buscar un elemento específico o eliminar un elemento en medio de la cola, pueden requerir una búsqueda secuencial, lo que lleva a una complejidad de tiempo lineal en el peor de los casos.\n",
        "\n"
      ]
    },
    {
      "cell_type": "code",
      "execution_count": null,
      "metadata": {
        "id": "J4vlhzDK_DkL"
      },
      "outputs": [],
      "source": [
        "class Queue:\n",
        "    def __init__(self):\n",
        "        self.items = []\n",
        "\n",
        "    def is_empty(self):\n",
        "        return len(self.items) == 0\n",
        "\n",
        "    def enqueue(self, item):\n",
        "        self.items.append(item)\n",
        "\n",
        "    def dequeue(self):\n",
        "        if not self.is_empty():\n",
        "            return self.items.pop(0) # Always dequeue the first\n",
        "        else:\n",
        "            raise IndexError(\"La cola está vacía\")\n",
        "\n",
        "    def front(self):\n",
        "        if not self.is_empty():\n",
        "            return self.items[0]\n",
        "        else:\n",
        "            raise IndexError(\"La cola está vacía\")"
      ]
    },
    {
      "cell_type": "code",
      "execution_count": null,
      "metadata": {
        "colab": {
          "base_uri": "https://localhost:8080/"
        },
        "id": "3_hO659TAHtk",
        "outputId": "b45ff75e-f123-4acf-8f49-32eb08ad7f6f"
      },
      "outputs": [],
      "source": [
        "cola = Queue()\n",
        "# Agregar elementos a la cola\n",
        "cola.enqueue(\"Elemento 1\")\n",
        "cola.enqueue(\"Elemento 2\")\n",
        "cola.enqueue(\"Elemento 3\")\n",
        "\n",
        "# Ver el elemento en el frente de la cola\n",
        "print(\"Elemento en el frente de la cola:\", cola.front())  # Output: Elemento 1\n",
        "\n",
        "# Desencolar elementos de la cola\n",
        "elemento = cola.dequeue()\n",
        "print(\"Elemento desencolado de la cola:\", elemento)  # Output: Elemento 1\n",
        "print(\"Elemento en el frente de la cola después de desencolar:\", cola.front())  # Output: Elemento 2\n",
        "\n",
        "# Comprobar si la cola está vacía\n",
        "print(\"¿La cola está vacía?\", cola.is_empty())  # Output: False"
      ]
    },
    {
      "cell_type": "markdown",
      "metadata": {
        "id": "RjY70i6OAK9a"
      },
      "source": [
        "#### Binary Trees\n",
        "---"
      ]
    },
    {
      "cell_type": "markdown",
      "metadata": {
        "id": "FcRxKoWoOAtm"
      },
      "source": [
        "Los árboles binarios son una estructura de datos jerárquica en la que cada nodo tiene, como máximo, dos hijos: un hijo izquierdo y un hijo derecho. Cada nodo se llama \"nodo padre\", y los nodos que se encuentran debajo de él se llaman \"nodos hijos\". Los nodos que no tienen hijos se denominan \"nodos hoja\". Los árboles binarios son ampliamente utilizados en informática y tienen muchas aplicaciones en algoritmos y estructuras de datos."
      ]
    },
    {
      "cell_type": "markdown",
      "metadata": {
        "id": "6ynt349WPwnD"
      },
      "source": [
        "Un árbol binario consta de los siguientes componentes básicos:\n",
        "\n",
        "- **Nodo raíz:** Es el nodo superior del árbol y el punto de partida para recorrer la estructura.\n",
        "\n",
        "- **Nodos internos:** Son los nodos que tienen al menos un hijo.\n",
        "\n",
        "- **Nodos hoja:** Son los nodos que no tienen hijos, es decir, son las \"hojas\" del árbol.\n",
        "\n",
        "- **Nodos hijos:** Son los nodos que están directamente conectados a un nodo padre. Un nodo puede tener un máximo de dos hijos: uno a la izquierda y otro a la derecha.\n",
        "\n",
        "- **Subárbol izquierdo y subárbol derecho:** Los subárboles izquierdo y derecho de un nodo son los árboles formados por los descendientes de ese nodo y sus respectivos hijos izquierdo y derecho.\n",
        "\n"
      ]
    },
    {
      "cell_type": "markdown",
      "metadata": {
        "id": "Y5MaupN8QMF4"
      },
      "source": [
        "Los árboles binarios se utilizan en una variedad de aplicaciones, como:\n",
        "\n",
        "- **Árboles de búsqueda binaria:** Se utilizan para organizar datos de manera eficiente, lo que permite búsquedas rápidas y ordenadas. Los valores más pequeños se almacenan en el subárbol izquierdo, y los valores más grandes en el subárbol derecho.\n",
        "\n",
        "- **Árboles de expresión:** Se utilizan para representar y evaluar expresiones matemáticas y lógicas. Cada nodo representa un operador o un valor, y los hijos representan los operandos.\n",
        "\n",
        "- **Árboles de Huffman:** Se utilizan en compresión de datos para asignar códigos de longitud variable a caracteres en función de su frecuencia de aparición.\n",
        "\n",
        "- **Árboles de parseo:** Se utilizan en análisis sintáctico de lenguajes de programación y compiladores para analizar y representar la estructura de un programa.\n",
        "\n",
        "- **Árboles AVL y árboles rojo-negro:** Son tipos de árboles binarios balanceados que garantizan un rendimiento óptimo en operaciones de búsqueda, inserción y eliminación"
      ]
    },
    {
      "cell_type": "code",
      "execution_count": 196,
      "metadata": {
        "id": "Dm2WcWBjQVsN"
      },
      "outputs": [],
      "source": [
        "class Node:\n",
        "  def __init__(self, value):\n",
        "    self.value = value\n",
        "    self.left = None\n",
        "    self.right = None"
      ]
    },
    {
      "cell_type": "code",
      "execution_count": 197,
      "metadata": {
        "id": "-zk9V0GHSFvG"
      },
      "outputs": [],
      "source": [
        "class BinaryTree:\n",
        "\n",
        "  # Funciones privadas del arbol\n",
        "  def __init__(self, root_value=None):\n",
        "    if root_value is None: raise ValueError(\"The Binary Tree must be a root value\")\n",
        "    self.root = Node(root_value)\n",
        "    self.left = None\n",
        "    self.right = None\n",
        "\n",
        "  # Inserting\n",
        "  def __add_recursive(self, node, value):\n",
        "    # The new value is lower that the current value in node?\n",
        "    if value < node.value:\n",
        "      if node.left is None: # Yes but, The next left node is free to use?\n",
        "        node.left = Node(value) # Yes it is!, let's create new node and save it\n",
        "      else:\n",
        "          self.__add_recursive(node.left, value) # Not is it, keep searching\n",
        "    else:\n",
        "      # The new value is higher that the current value in node.\n",
        "        if node.right is None: # The next right node is free to use?\n",
        "          node.right = Node(value)\n",
        "        else:\n",
        "          self.__add_recursive(node.right, value) # Not is filled, keep searching\n",
        "\n",
        "  # Travelsals\n",
        "  def __in_order_recursive(self, node):\n",
        "    if node is not None:\n",
        "      self.__in_order_recursive(node.left)\n",
        "      print(node.value, end=\", \")\n",
        "      self.__in_order_recursive(node.right)\n",
        "\n",
        "  def __pre_order_recursive(self, node):\n",
        "    if node is not None:\n",
        "      print(node.value, end=\", \")\n",
        "      self.__pre_order_recursive(node.left)\n",
        "      self.__pre_order_recursive(node.right)\n",
        "\n",
        "  def __post_order_recursive(self, node):\n",
        "    if node is not None:\n",
        "      self.__post_order_recursive(node.left)\n",
        "      self.__post_order_recursive(node.right)\n",
        "      print(node.value, end=\", \")\n",
        "\n",
        "  def __search(self, node, value2find):\n",
        "      if node is None: return None\n",
        "      if node.value == value2find: return node\n",
        "      if node.value < value2find:\n",
        "        return self.__search(node.left, value2find)\n",
        "      else:\n",
        "        return self.__search(node.right, value2find)\n",
        "\n",
        "  # Funciones publicas\n",
        "  def insert(self, value):\n",
        "    self.__add_recursive(self.root, value)\n",
        "    return 'Inserted'\n",
        "\n",
        "  def inorder(self):\n",
        "    print(\"Print the tree in order\")\n",
        "    self.__in_order_recursive(self.root)\n",
        "    print(\"\")\n",
        "\n",
        "  def preorder(self):\n",
        "    print(\"Print the tree in pre order\")\n",
        "    self.__pre_order_recursive(self.root)\n",
        "    print(\"\")\n",
        "\n",
        "  def postorder(self):\n",
        "    print(\"Print the tree in post order\")\n",
        "    self.__post_order_recursive(self.root)\n",
        "    print(\"\")\n",
        "\n",
        "  def search(self, value2find):\n",
        "        return self.__search(self.root, value2find)"
      ]
    },
    {
      "cell_type": "code",
      "execution_count": 202,
      "metadata": {},
      "outputs": [
        {
          "name": "stdout",
          "output_type": "stream",
          "text": [
            "Print the tree in order\n",
            "3, 4, 5, 7, 9, \n"
          ]
        }
      ],
      "source": [
        "arbol = BinaryTree(7)\n",
        "arbol.insert(4)\n",
        "arbol.insert(5)\n",
        "arbol.insert(3)\n",
        "arbol.insert(9)\n",
        "arbol.inorder()"
      ]
    },
    {
      "cell_type": "code",
      "execution_count": null,
      "metadata": {
        "colab": {
          "base_uri": "https://localhost:8080/"
        },
        "id": "LbKYs9cLIo-i",
        "outputId": "158d0197-bc65-40f9-f99e-725b96ba5901"
      },
      "outputs": [],
      "source": [
        "arbol = BinaryTree(\"Luis\")\n",
        "arbol.insert(\"María José\")\n",
        "arbol.insert(\"Maggie\")\n",
        "arbol.insert(\"Leon\")\n",
        "arbol.insert(\"Cuphead\")\n",
        "arbol.insert(\"Aloy\")\n",
        "arbol.insert(\"Jack\")\n",
        "\n",
        "arbol.preorder()\n",
        "print(\"\\n\")\n",
        "arbol.inorder()\n",
        "print(\"\\n\")\n",
        "arbol.postorder()"
      ]
    }
  ],
  "metadata": {
    "colab": {
      "collapsed_sections": [
        "4vXmnWNUbkSu",
        "_EsZwwfMzBu8",
        "J8KvM1Ov9z-i"
      ],
      "provenance": []
    },
    "kernelspec": {
      "display_name": "Python 3",
      "name": "python3"
    },
    "language_info": {
      "codemirror_mode": {
        "name": "ipython",
        "version": 3
      },
      "file_extension": ".py",
      "mimetype": "text/x-python",
      "name": "python",
      "nbconvert_exporter": "python",
      "pygments_lexer": "ipython3",
      "version": "3.8.15"
    }
  },
  "nbformat": 4,
  "nbformat_minor": 0
}
